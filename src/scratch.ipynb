{
 "cells": [
  {
   "attachments": {},
   "cell_type": "markdown",
   "metadata": {},
   "source": [
    "# MusiCA"
   ]
  },
  {
   "attachments": {},
   "cell_type": "markdown",
   "metadata": {},
   "source": [
    "## Setup"
   ]
  },
  {
   "cell_type": "code",
   "execution_count": 7,
   "metadata": {},
   "outputs": [
    {
     "data": {
      "text/plain": [
       "true"
      ]
     },
     "metadata": {},
     "output_type": "display_data"
    }
   ],
   "source": [
    "\n",
    "using RemoteREPL\n",
    "remoteREPLStarted::Bool = false\n",
    "if !remoteREPLStarted\n",
    "  @async serve_repl()\n",
    "  remoteREPLStarted = true\n",
    "end"
   ]
  },
  {
   "attachments": {},
   "cell_type": "markdown",
   "metadata": {},
   "source": [
    "#### Yhdistä REPL notebookkiin\n",
    "`connect_repl()`\n",
    "\n",
    "#### Hae muuttujia\n",
    "`x = @remote(x)`  \n",
    "`a, b = @remote(a,b)`\n",
    "\n",
    "#### doc\n",
    "https://c42f.github.io/RemoteREPL.jl/dev/"
   ]
  },
  {
   "attachments": {},
   "cell_type": "markdown",
   "metadata": {},
   "source": [
    "## Scratch"
   ]
  },
  {
   "attachments": {},
   "cell_type": "markdown",
   "metadata": {},
   "source": [
    "### using, new_state, ca & state"
   ]
  },
  {
   "cell_type": "code",
   "execution_count": 1,
   "metadata": {},
   "outputs": [
    {
     "data": {
      "text/plain": [
       "xf_printer (generic function with 1 method)"
      ]
     },
     "metadata": {},
     "output_type": "display_data"
    }
   ],
   "source": [
    "using Musica, BenchmarkTools, StaticArrays, Transducers, Plots, Folds\n",
    "function new_state(::Type{Val{L}}) where {L}\n",
    "  let bla = zeros(Bool, L)\n",
    "    bla[1] = 1\n",
    "    Row{2}(SizedVector{L}(bla))\n",
    "  end\n",
    "end\n",
    "\n",
    "new_state(::Val{L}) where {L} = new_state(Val{L})\n",
    "\n",
    "new_state(v::Integer) = new_state(Val(v))\n",
    "\n",
    "ca = CA.Elementary{2,1}(110)\n",
    "state=new_state(Val{32})\n",
    "n_generations=20\n",
    "\n",
    "caneuron = CANeuron{2,32}(ca, n_generations)\n",
    "\n",
    "xf_printer(label) = Map() do x\n",
    "  println(label, \": \", x)\n",
    "  return x  # just return it as-is\n",
    "end\n"
   ]
  },
  {
   "cell_type": "code",
   "execution_count": 9,
   "metadata": {},
   "outputs": [
    {
     "data": {
      "text/plain": [
       "false"
      ]
     },
     "metadata": {},
     "output_type": "display_data"
    }
   ],
   "source": [
    "Base.isinteractive()"
   ]
  },
  {
   "cell_type": "code",
   "execution_count": 10,
   "metadata": {},
   "outputs": [],
   "source": [
    "using Transducers, Plots, Lazy, Musica, StaticArrays\n",
    "\n",
    "# function new_state(row_len)\n",
    "#   @SVector ones(Int, row_len)\n",
    "# end\n",
    "\n",
    "# include(\"./CA.jl\")\n",
    "steps = 100\n",
    "res = Lazy.iterated(ca, new_state(160)) |> Take(steps) |> collect\n",
    "\n",
    "heatmap(stack(res)',\n",
    "  yflip=true,\n",
    "  c=cgrad([:white, :black]),\n",
    "  legend=:none,\n",
    "  axis=false,\n",
    "  ticks=false)"
   ]
  },
  {
   "cell_type": "code",
   "execution_count": null,
   "metadata": {},
   "outputs": [],
   "source": [
    "using Lazy, Plots\n",
    "steps=10\n",
    "res = Lazy.iterated(CA.Elementaryy{2}(110), state) |> Map(Musica.count_ones) |> Take(steps) |> collect\n",
    "plot(res)\n"
   ]
  },
  {
   "attachments": {},
   "cell_type": "markdown",
   "metadata": {},
   "source": [
    "### metaheur"
   ]
  },
  {
   "attachments": {},
   "cell_type": "markdown",
   "metadata": {},
   "source": [
    "#### opt"
   ]
  },
  {
   "cell_type": "code",
   "execution_count": null,
   "metadata": {},
   "outputs": [],
   "source": [
    "using Plots, Musica, Transducers, StatsBase, Metaheuristics\n",
    "\n",
    "function _plotopres(opres)\n",
    "  @show extrema(fvals(opres))\n",
    "  want_test_data = Musica._test_wanted_output_rastr(10, 0.19)\n",
    "  _parser = Musica._test_parser_dynamic()\n",
    "  _inp_gen = full_data_generator(want_test_data) #() -> (want_test_data, 1:length(want_test_data))\n",
    "  # _res_gen = Musica.full_result_generator(want_test_data)\n",
    "  # fff = Musica.to_obj_fn(_parser, _res_gen, Musica.make_fitness_function())\n",
    "\n",
    "  _res_gen = input_based_result_gen()\n",
    "  fff = create_obj_fn(_parser, _inp_gen, _res_gen, Musica.create_fitness_fn())\n",
    "\n",
    "  best_sol_bits = get_best_at(fff, opres)\n",
    "  # @show all(==(0), best_sol_bits)\n",
    "  @show length(best_sol_bits)\n",
    "\n",
    "  @show minimizer(opres) == best_sol_bits\n",
    "  @show best_sol_bits\n",
    "  @show Int(undigits(best_sol_bits[1:Musica._bits_per_stack_size()]))\n",
    "  (_, cas) = best_sol_bits |> _parser\n",
    "  @show cas\n",
    "  for can in cas\n",
    "    @show can\n",
    "  end\n",
    "\n",
    "  # (_want, _res) = _inp_gen()\n",
    "\n",
    "  # best_sol_bits = minimizer(opres)\n",
    "  (wanted, inp) = _inp_gen() |> maybe_collect\n",
    "  result = _res_gen(inp, cas) |>\n",
    "           Map(@<(normalize_num(2^16 - 1)) ∘ row_from_gray) |> maybe_collect\n",
    "\n",
    "  @show extrema(result)\n",
    "  @show StatsBase.rmsd(result, wanted)\n",
    "  plot(result, label=\"result\", seriescolor=:red)\n",
    "  vline!([length(Musica._test_wanted_output_tan(π))], label=\"training data cutoff\")\n",
    "  plot!(wanted, label=\"target\", seriescolor=:green)\n",
    "end\n",
    "\n",
    "_plotopres(opres)\n"
   ]
  },
  {
   "cell_type": "code",
   "execution_count": null,
   "metadata": {},
   "outputs": [],
   "source": [
    "using Transducers, StaticArrays, Musica\n",
    "\n",
    "#state=Musica.Row{2}(new_state(Val{16}))\n",
    "\n",
    "test_ca = CA.Elementary{2}(110)\n",
    "test_ca2 = CA.Elementary{2}(54)\n",
    "\n",
    "trf=TeeRF(Map(test_ca)'(append!!)\n",
    "       , Map(test_ca2)'(append!!))\n",
    "\n",
    "foldl(trf, Map(identity), [state])\n",
    "# transducereitten adjointit toimii foldl:n kanssa näin:\n",
    "# Map(test_ca)'(append!!)([], test_state) ==\n",
    "#   [1, 1, 0, 0, 0, 0, 0, 0]\n",
    "# \n",
    "# eli ton palauttaman funktion vasen parametri on acc, oikea on varsinainen itemi.\n",
    "\n"
   ]
  },
  {
   "cell_type": "code",
   "execution_count": null,
   "metadata": {},
   "outputs": [],
   "source": [
    "using Musica\n",
    "let ca = ElementaryCA{2}(110), state = Row{2,5}(ones(Bool,5))\n",
    "  specs=@which(ca(state)).specializations;\n",
    "  foreach(specs) do spec\n",
    "    @show spec\n",
    "  end\n",
    "end\n"
   ]
  },
  {
   "cell_type": "code",
   "execution_count": null,
   "metadata": {},
   "outputs": [],
   "source": [
    "using BenchmarkTools, LoopVectorization\n",
    "let n = 5_000\n",
    "\n",
    "  function fill_vect(s)\n",
    "    rand(Bool, s)\n",
    "  end\n",
    "\n",
    "  function fill_vect_for(s)\n",
    "    v = Vector{Bool}(undef, s)\n",
    "    @inbounds for i = 1:s\n",
    "      v[i] = rand(Bool)\n",
    "    end\n",
    "    v\n",
    "  end\n",
    "\n",
    "  function fill_vect_for_simd(s)\n",
    "    v = Vector{Bool}(undef, s)\n",
    "    @inbounds @simd ivdep for i = 1:s\n",
    "      v[i] = rand(Bool)\n",
    "    end\n",
    "    v\n",
    "  end\n",
    "\n",
    "  function fill_bitvect(s)\n",
    "    BitVector(rand(Bool, s))\n",
    "  end\n",
    "\n",
    "  function fill_bitvect_for(s)\n",
    "    v = BitVector(undef, s)\n",
    "    @inbounds for i = 1:s\n",
    "      v[i] = rand(Bool)\n",
    "    end\n",
    "    v\n",
    "  end\n",
    "\n",
    "  function fill_bitvect_for_simd(s)\n",
    "    v = BitVector(undef, s)\n",
    "    @inbounds @simd ivdep for i = 1:s\n",
    "      v[i] = rand(Bool)\n",
    "    end\n",
    "    v\n",
    "  end\n",
    "\n",
    "  bset = @benchmarkset \"ble\" begin\n",
    "    @case \"fill_vect\" $fill_vect($n)\n",
    "    @case \"fill_vect_for\" $fill_vect_for($n)\n",
    "    @case \"fill_vect_for_simd\" $fill_vect_for_simd($n)\n",
    "\n",
    "    @case \"fill_bitvect\" $fill_bitvect($n)\n",
    "    @case \"fill_bitvect_for\" $fill_bitvect_for($n)\n",
    "    @case \"fill_bitvect_for_simd\" $fill_bitvect_for_simd($n)\n",
    "  end\n",
    "\n",
    "  for (setname, set) in BenchmarkTools.run(bset)\n",
    "    for (name, trial) in set\n",
    "        display(name)\n",
    "        display(trial)\n",
    "      end\n",
    "  end\n",
    "\n",
    "  # for (name, trial) in BenchmarkTools.run(bset)[\"ble\"]\n",
    "  #   display(name)\n",
    "  #   display(trial)\n",
    "  # end\n",
    "\n",
    "end"
   ]
  },
  {
   "cell_type": "code",
   "execution_count": null,
   "metadata": {},
   "outputs": [],
   "source": [
    "using Musica, Transducers, StaticArrays, StatsBase\n",
    "\n",
    "indivs = SizedVector{10}(1:10 |> Map(x -> rand(Bool, rand(1:20))) |> collect);\n",
    "st=GA.State{10}(indivs, GA.Options(objective_fn=x->0.0));\n",
    "StatsBase.sample(GA.individuals(st), 2;replace=false)"
   ]
  },
  {
   "cell_type": "code",
   "execution_count": null,
   "metadata": {},
   "outputs": [],
   "source": [
    "using Plots\n",
    "histogram(randn(5000),seriescolor=:green)"
   ]
  },
  {
   "cell_type": "code",
   "execution_count": 2,
   "metadata": {},
   "outputs": [
    {
     "name": "stdout",
     "output_type": "stream",
     "text": [
      "_typedispatch.drop([1, 2, 3, 4, 5], 2) = [3, 4, 5]\n",
      "_typedispatch.drop([1, 2, 3, 4, 5], 6) = Int64[]\n"
     ]
    },
    {
     "name": "stdout",
     "output_type": "stream",
     "text": [
      "_tailcalls.drop([1, 2, 3, 4, 5], 2) = [3, 4, 5]\n",
      "_tailcalls.drop([1, 2, 3, 4, 5], 6) = Int64[]\n"
     ]
    },
    {
     "data": {
      "text/plain": [
       "Int64[]"
      ]
     },
     "metadata": {},
     "output_type": "display_data"
    }
   ],
   "source": [
    "module _typedispatch\n",
    "using StaticArrays\n",
    "\n",
    "drop(a, n) = _drop(SizedVector{length(a)}(a), Val{n})\n",
    "\n",
    "_drop(a::SizedVector{0}, ::Type{Val{N}}) where N = a\n",
    "_drop(a::SizedVector{Len}, ::Type{Val{0}}) where Len = a\n",
    "_drop(a::SizedVector{Len}, ::Type{Val{N}}) where {Len,N} = _drop(SizedVector{Len - 1}(a[2:end]), Val{N - 1})\n",
    "\n",
    "end\n",
    "\n",
    "@show(_typedispatch.drop([1, 2, 3, 4, 5], 2))\n",
    "@show(_typedispatch.drop([1, 2, 3, 4, 5], 6))\n",
    "\n",
    "module _tailcalls\n",
    "\n",
    "function drop(a, n)\n",
    "  if isempty(a) || n == 0\n",
    "    a\n",
    "  else\n",
    "    drop(a[2:end], n - 1)\n",
    "  end\n",
    "end\n",
    "\n",
    "end\n",
    "\n",
    "@show(_tailcalls.drop([1, 2, 3, 4, 5], 2))\n",
    "@show(_tailcalls.drop([1, 2, 3, 4, 5], 6))"
   ]
  },
  {
   "cell_type": "code",
   "execution_count": 21,
   "metadata": {},
   "outputs": [
    {
     "name": "stdout",
     "output_type": "stream",
     "text": [
      "c = Main._typeabuse.Call{+, (1, 2)}\n",
      "c() = 3\n",
      "\n",
      "c = Main._typeabuse.Call{digits, 5, (base = 2,)}\n",
      "c() = [1, 0, 1]\n",
      "\n",
      "c = Main._typeabuse.Call{rand}\n",
      "c() = 0.35762394748720494\n"
     ]
    },
    {
     "data": {
      "text/plain": [
       "0.35762394748720494"
      ]
     },
     "metadata": {},
     "output_type": "display_data"
    }
   ],
   "source": [
    "module _typeabuse\n",
    "abstract type Call{Fn,Args,KW} end\n",
    "\n",
    "@inline (c::Type{Call{Fn,Args,KW}})() where {Fn,Args,KW} = Fn(Args...; KW...)\n",
    "@inline (c::Type{Call{Fn,Args}})() where {Fn,Args} = Fn(Args...)\n",
    "@inline (c::Type{Call{Fn}})() where {Fn} = Fn()\n",
    "\n",
    "end\n",
    "\n",
    "let c = _typeabuse.Call{+,(1, 2)}\n",
    "  @show c\n",
    "  @show c()\n",
    "end\n",
    "\n",
    "let c = _typeabuse.Call{digits,5,(; base = 2)}\n",
    "  println()\n",
    "  @show c\n",
    "  @show c()\n",
    "end\n",
    "\n",
    "let c = _typeabuse.Call{rand}\n",
    "  println()\n",
    "  @show c\n",
    "  @show c()\n",
    "end\n",
    "\n"
   ]
  },
  {
   "cell_type": "code",
   "execution_count": 31,
   "metadata": {},
   "outputs": [
    {
     "data": {
      "text/plain": [
       "\"WhereTraits discrete\""
      ]
     },
     "metadata": {},
     "output_type": "display_data"
    },
    {
     "data": {
      "text/plain": [
       "BenchmarkTools.Trial: 10000 samples with 1 evaluation.\n",
       " Range \u001b[90m(\u001b[39m\u001b[36m\u001b[1mmin\u001b[22m\u001b[39m … \u001b[35mmax\u001b[39m\u001b[90m):  \u001b[39m\u001b[36m\u001b[1m 0.001 ns\u001b[22m\u001b[39m … \u001b[35m 7.709 μs\u001b[39m  \u001b[90m┊\u001b[39m GC \u001b[90m(\u001b[39mmin … max\u001b[90m): \u001b[39m0.00% … 0.00%\n",
       " Time  \u001b[90m(\u001b[39m\u001b[34m\u001b[1mmedian\u001b[22m\u001b[39m\u001b[90m):     \u001b[39m\u001b[34m\u001b[1m83.000 ns              \u001b[22m\u001b[39m\u001b[90m┊\u001b[39m GC \u001b[90m(\u001b[39mmedian\u001b[90m):    \u001b[39m0.00%\n",
       " Time  \u001b[90m(\u001b[39m\u001b[32m\u001b[1mmean\u001b[22m\u001b[39m ± \u001b[32mσ\u001b[39m\u001b[90m):   \u001b[39m\u001b[32m\u001b[1m74.854 ns\u001b[22m\u001b[39m ± \u001b[32m79.075 ns\u001b[39m  \u001b[90m┊\u001b[39m GC \u001b[90m(\u001b[39mmean ± σ\u001b[90m):  \u001b[39m0.00% ± 0.00%\n",
       "\n",
       "  \u001b[39m \u001b[39m \u001b[39m \u001b[39m \u001b[39m \u001b[39m \u001b[39m \u001b[39m \u001b[39m \u001b[39m \u001b[39m \u001b[39m \u001b[39m \u001b[39m \u001b[39m \u001b[39m \u001b[39m \u001b[39m \u001b[39m \u001b[39m \u001b[39m \u001b[39m \u001b[39m \u001b[39m \u001b[39m \u001b[39m \u001b[39m \u001b[39m \u001b[39m \u001b[39m \u001b[39m \u001b[39m \u001b[39m \u001b[39m \u001b[39m \u001b[39m \u001b[39m \u001b[39m \u001b[39m \u001b[39m \u001b[39m \u001b[39m \u001b[39m \u001b[39m \u001b[39m \u001b[39m \u001b[39m \u001b[39m \u001b[39m \u001b[39m \u001b[39m \u001b[39m \u001b[39m \u001b[32m \u001b[39m\u001b[39m \u001b[39m \u001b[39m \u001b[39m \u001b[34m█\u001b[39m\u001b[39m \u001b[39m \n",
       "  \u001b[39m▂\u001b[39m▁\u001b[39m▁\u001b[39m▁\u001b[39m▁\u001b[39m▁\u001b[39m▁\u001b[39m▁\u001b[39m▁\u001b[39m▁\u001b[39m▁\u001b[39m▁\u001b[39m▁\u001b[39m▁\u001b[39m▁\u001b[39m▁\u001b[39m▁\u001b[39m▁\u001b[39m▁\u001b[39m▁\u001b[39m▁\u001b[39m▁\u001b[39m▁\u001b[39m▁\u001b[39m▁\u001b[39m▁\u001b[39m▁\u001b[39m▁\u001b[39m▃\u001b[39m▅\u001b[39m▁\u001b[39m▁\u001b[39m▁\u001b[39m▁\u001b[39m▁\u001b[39m▁\u001b[39m▁\u001b[39m▁\u001b[39m▁\u001b[39m▁\u001b[39m▁\u001b[39m▁\u001b[39m▁\u001b[39m▁\u001b[39m▁\u001b[39m▁\u001b[39m▁\u001b[39m▁\u001b[39m▁\u001b[39m▁\u001b[39m▁\u001b[39m▁\u001b[39m▁\u001b[32m▁\u001b[39m\u001b[39m▁\u001b[39m▁\u001b[39m▁\u001b[39m▁\u001b[34m█\u001b[39m\u001b[39m \u001b[39m▂\n",
       "  0.001 ns\u001b[90m        Histogram: frequency by time\u001b[39m          84 ns \u001b[0m\u001b[1m<\u001b[22m\n",
       "\n",
       " Memory estimate\u001b[90m: \u001b[39m\u001b[33m0 bytes\u001b[39m, allocs estimate\u001b[90m: \u001b[39m\u001b[33m0\u001b[39m."
      ]
     },
     "metadata": {},
     "output_type": "display_data"
    },
    {
     "data": {
      "text/plain": [
       "\"vanilla traits\""
      ]
     },
     "metadata": {},
     "output_type": "display_data"
    },
    {
     "data": {
      "text/plain": [
       "BenchmarkTools.Trial: 10000 samples with 1 evaluation.\n",
       " Range \u001b[90m(\u001b[39m\u001b[36m\u001b[1mmin\u001b[22m\u001b[39m … \u001b[35mmax\u001b[39m\u001b[90m):  \u001b[39m\u001b[36m\u001b[1m 0.001 ns\u001b[22m\u001b[39m … \u001b[35m 3.667 μs\u001b[39m  \u001b[90m┊\u001b[39m GC \u001b[90m(\u001b[39mmin … max\u001b[90m): \u001b[39m0.00% … 0.00%\n",
       " Time  \u001b[90m(\u001b[39m\u001b[34m\u001b[1mmedian\u001b[22m\u001b[39m\u001b[90m):     \u001b[39m\u001b[34m\u001b[1m 0.001 ns              \u001b[22m\u001b[39m\u001b[90m┊\u001b[39m GC \u001b[90m(\u001b[39mmedian\u001b[90m):    \u001b[39m0.00%\n",
       " Time  \u001b[90m(\u001b[39m\u001b[32m\u001b[1mmean\u001b[22m\u001b[39m ± \u001b[32mσ\u001b[39m\u001b[90m):   \u001b[39m\u001b[32m\u001b[1m16.103 ns\u001b[22m\u001b[39m ± \u001b[32m41.757 ns\u001b[39m  \u001b[90m┊\u001b[39m GC \u001b[90m(\u001b[39mmean ± σ\u001b[90m):  \u001b[39m0.00% ± 0.00%\n",
       "\n",
       "  \u001b[34m█\u001b[39m\u001b[39m \u001b[39m \u001b[39m \u001b[39m \u001b[39m \u001b[39m \u001b[39m \u001b[39m \u001b[39m \u001b[39m \u001b[39m \u001b[39m \u001b[39m \u001b[39m \u001b[39m \u001b[39m \u001b[39m \u001b[39m \u001b[39m \u001b[39m \u001b[39m \u001b[39m \u001b[32m \u001b[39m\u001b[39m \u001b[39m \u001b[39m \u001b[39m \u001b[39m \u001b[39m \u001b[39m \u001b[39m \u001b[39m \u001b[39m \u001b[39m \u001b[39m \u001b[39m \u001b[39m \u001b[39m \u001b[39m \u001b[39m \u001b[39m \u001b[39m \u001b[39m \u001b[39m \u001b[39m \u001b[39m \u001b[39m \u001b[39m \u001b[39m \u001b[39m \u001b[39m \u001b[39m \u001b[39m \u001b[39m \u001b[39m \u001b[39m \u001b[39m \u001b[39m \u001b[39m \u001b[39m \n",
       "  \u001b[34m█\u001b[39m\u001b[39m▁\u001b[39m▁\u001b[39m▁\u001b[39m▁\u001b[39m▁\u001b[39m▁\u001b[39m▁\u001b[39m▁\u001b[39m▁\u001b[39m▁\u001b[39m▁\u001b[39m▁\u001b[39m▁\u001b[39m▁\u001b[39m▁\u001b[39m▁\u001b[39m▁\u001b[39m▁\u001b[39m▁\u001b[39m▁\u001b[39m▁\u001b[39m▁\u001b[32m▁\u001b[39m\u001b[39m▁\u001b[39m▁\u001b[39m▁\u001b[39m▁\u001b[39m▁\u001b[39m▁\u001b[39m▁\u001b[39m▁\u001b[39m▁\u001b[39m▁\u001b[39m▁\u001b[39m▁\u001b[39m▁\u001b[39m▁\u001b[39m▁\u001b[39m▁\u001b[39m▁\u001b[39m▁\u001b[39m▁\u001b[39m▁\u001b[39m▁\u001b[39m▁\u001b[39m▁\u001b[39m▁\u001b[39m▁\u001b[39m▁\u001b[39m▁\u001b[39m▁\u001b[39m▁\u001b[39m▁\u001b[39m▁\u001b[39m▁\u001b[39m▁\u001b[39m▅\u001b[39m▇\u001b[39m \u001b[39m▂\n",
       "  0.001 ns\u001b[90m        Histogram: frequency by time\u001b[39m          42 ns \u001b[0m\u001b[1m<\u001b[22m\n",
       "\n",
       " Memory estimate\u001b[90m: \u001b[39m\u001b[33m0 bytes\u001b[39m, allocs estimate\u001b[90m: \u001b[39m\u001b[33m0\u001b[39m."
      ]
     },
     "metadata": {},
     "output_type": "display_data"
    },
    {
     "name": "stderr",
     "output_type": "stream",
     "text": [
      "WARNING: replacing module _traits.\n",
      "┌ Warning: Replacing docs for `Main._traits.do_stuff_where :: Tuple{T1} where T1<:Main._traits.Abstract` in module `Main._traits`\n",
      "└ @ Base.Docs docs/Docs.jl:243\n"
     ]
    }
   ],
   "source": [
    "using BenchmarkTools\n",
    "\n",
    "module _traits\n",
    "using WhereTraits\n",
    "\n",
    "abstract type Abstract end\n",
    "abstract type DomainType end\n",
    "\n",
    "struct Discrete <: DomainType end\n",
    "\n",
    "struct Continuous <: DomainType end\n",
    "\n",
    "DomainType(_::Type{<:Abstract}) = Discrete()\n",
    "\n",
    "struct ADiscreteType <: Abstract \n",
    "  value::Int\n",
    "end\n",
    "\n",
    "struct AContinuousType <: Abstract end\n",
    "DomainType(::Type{AContinuousType}) = Continuous()\n",
    "\n",
    "valueof(v::ADiscreteType) = v.value\n",
    "\n",
    "@traits do_stuff_where(x::T) where {T<:Abstract, _traits.DomainType(T)::_traits.Discrete} = x |> valueof\n",
    "@traits do_stuff_where(x::T) where {T<:Abstract} = 0\n",
    "@traits do_stuff_where(_) = 0\n",
    "\n",
    "do_stuff_trait(x::Abstract) = _do_stuff_trait(DomainType(x|>typeof), x)\n",
    "_do_stuff_trait(::Discrete, x) = x |> valueof\n",
    "end\n",
    "\n",
    "let it=_traits.ADiscreteType(666)\n",
    "  bset = @benchmarkset \"traits\" begin\n",
    "    @case \"WhereTraits discrete\" _traits.do_stuff_where($it)\n",
    "    @case \"vanilla traits\" _traits.do_stuff_trait($it)\n",
    "  end\n",
    "  \n",
    "  for (setname, set) in BenchmarkTools.run(bset)\n",
    "    for (name, trial) in set\n",
    "        display(name)\n",
    "        display(trial)\n",
    "      end\n",
    "  end\n",
    "end\n"
   ]
  },
  {
   "cell_type": "code",
   "execution_count": null,
   "metadata": {},
   "outputs": [],
   "source": [
    "module _rules\n",
    "using Metatheory\n",
    "\n",
    "const r1 = @rule #sin(2(~x)) --> 2sin(~x)*cos(~x)\n",
    "\n",
    "# const expr = :(sin(2z))\n",
    "end\n",
    "\n",
    "_rules"
   ]
  }
 ],
 "metadata": {
  "kernelspec": {
   "display_name": "Julia 1.9.1",
   "language": "julia",
   "name": "julia-1.9"
  },
  "language_info": {
   "file_extension": ".jl",
   "mimetype": "application/julia",
   "name": "julia",
   "version": "1.9.1"
  }
 },
 "nbformat": 4,
 "nbformat_minor": 2
}
