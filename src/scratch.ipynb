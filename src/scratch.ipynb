{
 "cells": [
  {
   "attachments": {},
   "cell_type": "markdown",
   "metadata": {},
   "source": [
    "# MusiCA"
   ]
  },
  {
   "attachments": {},
   "cell_type": "markdown",
   "metadata": {},
   "source": [
    "## Setup"
   ]
  },
  {
   "cell_type": "code",
   "execution_count": 7,
   "metadata": {},
   "outputs": [
    {
     "data": {
      "text/plain": [
       "true"
      ]
     },
     "metadata": {},
     "output_type": "display_data"
    }
   ],
   "source": [
    "\n",
    "using RemoteREPL\n",
    "remoteREPLStarted::Bool = false\n",
    "if !remoteREPLStarted\n",
    "  @async serve_repl()\n",
    "  remoteREPLStarted = true\n",
    "end"
   ]
  },
  {
   "attachments": {},
   "cell_type": "markdown",
   "metadata": {},
   "source": [
    "#### Yhdistä REPL notebookkiin\n",
    "`connect_repl()`\n",
    "\n",
    "#### Hae muuttujia\n",
    "`x = @remote(x)`  \n",
    "`a, b = @remote(a,b)`\n",
    "\n",
    "#### doc\n",
    "https://c42f.github.io/RemoteREPL.jl/dev/"
   ]
  },
  {
   "attachments": {},
   "cell_type": "markdown",
   "metadata": {},
   "source": [
    "## Scratch"
   ]
  },
  {
   "attachments": {},
   "cell_type": "markdown",
   "metadata": {},
   "source": [
    "### using, new_state, ca & state"
   ]
  },
  {
   "cell_type": "code",
   "execution_count": 1,
   "metadata": {},
   "outputs": [
    {
     "data": {
      "text/plain": [
       "xf_printer (generic function with 1 method)"
      ]
     },
     "metadata": {},
     "output_type": "display_data"
    }
   ],
   "source": [
    "using Musica, BenchmarkTools, StaticArrays, Transducers, Plots, Folds\n",
    "function new_state(::Type{Val{L}}) where {L}\n",
    "  let bla = zeros(Bool, L)\n",
    "    bla[1] = 1\n",
    "    Row{2}(SizedVector{L}(bla))\n",
    "  end\n",
    "end\n",
    "\n",
    "new_state(::Val{L}) where {L} = new_state(Val{L})\n",
    "\n",
    "new_state(v::Integer) = new_state(Val(v))\n",
    "\n",
    "ca = CA.Elementary{2,1}(110)\n",
    "state=new_state(Val{32})\n",
    "n_generations=20\n",
    "\n",
    "caneuron = CANeuron{2,32}(ca, n_generations)\n",
    "\n",
    "xf_printer(label) = Map() do x\n",
    "  println(label, \": \", x)\n",
    "  return x  # just return it as-is\n",
    "end\n"
   ]
  },
  {
   "cell_type": "code",
   "execution_count": 9,
   "metadata": {},
   "outputs": [
    {
     "data": {
      "text/plain": [
       "false"
      ]
     },
     "metadata": {},
     "output_type": "display_data"
    }
   ],
   "source": [
    "Base.isinteractive()"
   ]
  },
  {
   "cell_type": "code",
   "execution_count": 2,
   "metadata": {},
   "outputs": [
    {
     "name": "stderr",
     "output_type": "stream",
     "text": [
      "┌ Error: Failed to revise /Users/teklof/Documents/Programming/julia/Musica/src/parsing.jl\n",
      "│   exception = Revise.ReviseEvalException(\"/Users/teklof/Documents/Programming/julia/Musica/src/none:0\", ErrorException(\"invalid redefinition of constant Discard\"), Any[(top-level scope at none:0, 1)])\n",
      "└ @ Revise /Users/teklof/.julia/packages/Revise/7HQ7u/src/packagedef.jl:723\n",
      "┌ Warning: The running code does not match the saved version for the following files:\n",
      "│ \n",
      "│   /Users/teklof/Documents/Programming/julia/Musica/src/parsing.jl\n",
      "│ \n",
      "│ If the error was due to evaluation order, it can sometimes be resolved by calling `Revise.retry()`.\n",
      "│ Use Revise.errors() to report errors again. Only the first error in each file is shown.\n",
      "│ Your prompt color may be yellow until the errors are resolved.\n",
      "└ @ Revise /Users/teklof/.julia/packages/Revise/7HQ7u/src/packagedef.jl:833\n"
     ]
    },
    {
     "name": "stderr",
     "output_type": "stream",
     "text": [
      "\u001b[33m\u001b[1m┌ \u001b[22m\u001b[39m\u001b[33m\u001b[1mWarning: \u001b[22m\u001b[39mbackend `GR` is not installed.\n",
      "\u001b[33m\u001b[1m└ \u001b[22m\u001b[39m\u001b[90m@ Plots ~/.julia/packages/Plots/sxUvK/src/backends.jl:43\u001b[39m\n"
     ]
    },
    {
     "name": "stderr",
     "output_type": "stream",
     "text": [
      "fatal: error thrown and no exception handler available.\n",
      "Base.TOML.ParserError(type=Base.TOML.ErrorType(0x00000009), data=nothing, str=\"name = \"Musica\"\n",
      "uuid = \"b7355d43-d5bc-4bd6-b9cb-a8ac25e01657\"\n",
      "version = \"0.0.1\"\n",
      "\n",
      "[deps]\n",
      "Accessors = \"7d9f7c33-5ae7-4f3b-8dc6-eff91059b697\"\n",
      "AccessorsExtra = \"33016aad-b69d-45be-9359-82a41f556fd4\"\n",
      "AutoHashEquals = \"15f4f7f2-30c1-5605-9d31-71845cf9641f\"\n",
      "ConstructionBase = \"187b0558-2788-49d3-abe0-74a17ed4e7c9\"\n",
      "Distributions = \"31c24e10-a181-5473-b8eb-7969acd0382f\"\n",
      "Folds = \"41a02a25-b8f0-4f67-bc48-60067656b558\"\n",
      "FunctionWrappers = \"069b7b12-0de2-55c6-9aab-29f3d0a68a2e\"\n",
      "Graphs = \"86223c79-3864-5bf0-83f7-82e725a168b6\"\n",
      "GrayCode = \"3c6b6a22-b11f-44c2-accc-f87d49953a21\"\n",
      "InteractiveUtils = \"b77e0a4c-d291-57a0-90e8-8db25a27a240\"\n",
      "LoopVectorization = \"bdcacae8-1622-11e9-2a5c-532679323890\"\n",
      "MLStyle = \"d8e11817-5142-5d16-987a-aa16d5891078\"\n",
      "MacroTools = \"1914dd2f-81c6-5fcd-8719-6d5c9610ff09\"\n",
      "MicroCollections = \"128add7d-3638-4c79-886c-908ea0c25c34\"\n",
      "Parameters = \"d96e819e-fc66-5662-9728-84c9c7592b0a\"\n",
      "Printf = \"de0858da-6303-5e67-8744-51eddeeeb8d7\"\n",
      "Random = \"9a3f8284-a2c9-5f02-9a11-845980a1fd5c\"\n",
      "Static = \"aedffcd0-7271-4cad-89d0-dc628f76c6d3\"\n",
      "StaticArrays = \"90137ffa-7385-5640-81b9-e52037218182\"\n",
      "StatsBase = \"2913bbd2-ae8a-5f71-8c99-4fb6c76f3a91\"\n",
      "Strided = \"5e0ebb24-38b0-5f93-81fe-25c709ecae67\"\n",
      "StructArrays = \"09ab397b-f2b6-538f-b94a-2f83cf4a842a\"\n",
      "TestItems = \"1c621080-faea-4a02-84b6-bbd5e436b8fe\"\n",
      "ThreadSafeDicts = \"4239201d-c60e-5e0a-9702-85d713665ba7\"\n",
      "Transducers = \"28d57a85-8fef-5791-bfe6-a80928e7c999\"\n",
      "Tricks = \"410a4b4d-49e4-4fbc-ab6d-cb71b17b3775\"\n",
      "Try = \"bf1d0ff0-c4a9-496b-85f0-2b0d71c4f32a\"\n",
      "TryExperimental = \"ae3b139e-64da-4858-8f55-5617df0d650e\"\n",
      "TypeUtils = \"c3b1956e-8857-4d84-9b79-890df85b1e67\"\n",
      "\n",
      "[compat]\n",
      "Folds = \"0.2\"\n",
      "Parameters = \"0.12\"\n",
      "StatsBase = \"0.34\"\n",
      "StructArrays = \"0.6\"\n",
      "TestItems = \"0.1\"\n",
      "Transducers = \"0.4\"\n",
      "StructArrays = \"0.6\"\n",
      "\n",
      "[extras]\n",
      "Documenter = \"e30172f5-a6a5-5a46-863b-614d45cd2de4\"\n",
      "Test = \"8dfed614-e22c-5e08-85e1-65c5234f0b40\"\n",
      "TestItemRunner = \"f8b46487-2199-4994-9208-9a1283c18c0a\"\n",
      "\n",
      "[targets]\n",
      "test = [\"TestItemRunner\", \"Test\", \"Documenter\"]\n",
      "\", filepath=\"/Users/teklof/Documents/Programming/julia/Musica/Project.toml\", line=43, column=14, pos=1745, table=Base.Dict{String, Any}(slots=Array{UInt8, (16,)}[0xce, 0xc8, 0x00, 0x00, 0x00, 0x00, 0x94, 0xc2, 0x00, 0x00, 0x00, 0x00, 0x00, 0xd0, 0x00, 0x00], keys=Array{String, (16,)}[\n",
      "  \"deps\",\n",
      "  \"name\",\n",
      "  #<null>,\n",
      "  #<null>,\n",
      "  #<null>,\n",
      "  #<null>,\n",
      "  \"uuid\",\n",
      "  \"compat\",\n",
      "  #<null>,\n",
      "  #<null>,\n",
      "  #<null>,\n",
      "  #<null>,\n",
      "  #<null>,\n",
      "  \"version\",\n",
      "  #<null>,\n",
      "  #<null>], vals=Array{Any, (16,)}[\n",
      "  Base.Dict{String, Any}(slots=Array{UInt8, (64,)}[0x00, 0xc2, 0xd2, 0x9c, 0xd7, 0xc5, 0xac, 0xbf, 0xaa, 0xe2, 0xa1, 0x00, 0x00, 0x00, 0x00, 0x00, 0x00, 0x00, 0xc8, 0xd1, 0x00, 0x00, 0x00, 0x00, 0x00, 0x00, 0x00, 0x00, 0xe4, 0x00, 0x00, 0x00, 0x00, 0x00, 0xfd, 0x00, 0xcd, 0x94, 0x00, 0x00, 0x00, 0x8d, 0xb1, 0x00, 0x00, 0xc1, 0x00, 0x9f, 0x00, 0xe5, 0x00, 0x00, 0x9f, 0x83, 0x85, 0x00, 0xd9, 0xde, 0x93, 0xd5, 0xbf, 0x00, 0x00, 0x00], keys=Array{String, (64,)}[\n",
      "  #<null>,\n",
      "  \"Transducers\",\n",
      "  \"Accessors\",\n",
      "  \"Tricks\",\n",
      "  \"ThreadSafeDicts\",\n",
      "  \"Try\",\n",
      "  \"Distributions\",\n",
      "  \"FunctionWrappers\",\n",
      "  \"Random\",\n",
      "  \"StructArrays\",\n",
      "  \"TypeUtils\",\n",
      "  #<null>,\n",
      "  #<null>,\n",
      "  #<null>,\n",
      "  #<null>,\n",
      "  #<null>,\n",
      "  #<null>,\n",
      "  #<null>,\n",
      "  \"Graphs\",\n",
      "  \"ConstructionBase\",\n",
      "  #<null>,\n",
      "  #<null>,\n",
      "  #<null>,\n",
      "  #<null>,\n",
      "  #<null>,\n",
      "  #<null>,\n",
      "  #<null>,\n",
      "  #<null>,\n",
      "  \"GrayCode\",\n",
      "  #<null>,\n",
      "  #<null>,\n",
      "  #<null>,\n",
      "  #<null>,\n",
      "  #<null>,\n",
      "  \"StatsBase\",\n",
      "  #<null>,\n",
      "  \"LoopVectorization\",\n",
      "  \"Static\",\n",
      "  #<null>,\n",
      "  #<null>,\n",
      "  #<null>,\n",
      "  \"Strided\",\n",
      "  \"AccessorsExtra\",\n",
      "  #<null>,\n",
      "  #<null>,\n",
      "  \"Folds\",\n",
      "  #<null>,\n",
      "  \"MacroTools\",\n",
      "  #<null>,\n",
      "  \"StaticArrays\",\n",
      "  #<null>,\n",
      "  #<null>,\n",
      "  \"AutoHashEquals\",\n",
      "  \"InteractiveUtils\",\n",
      "  \"TestItems\",\n",
      "  #<null>,\n",
      "  \"Parameters\",\n",
      "  \"MicroCollections\",\n",
      "  \"MLStyle\",\n",
      "  \"Printf\",\n",
      "  \"TryExperimental\",\n",
      "  #<null>,\n",
      "  #<null>,\n",
      "  #<null>], vals=Array{Any, (64,)}[\n",
      "  #<null>,\n",
      "  \"28d57a85-8fef-5791-bfe6-a80928e7c999\",\n",
      "  \"7d9f7c33-5ae7-4f3b-8dc6-eff91059b697\",\n",
      "  \"410a4b4d-49e4-4fbc-ab6d-cb71b17b3775\",\n",
      "  \"4239201d-c60e-5e0a-9702-85d713665ba7\",\n",
      "  \"bf1d0ff0-c4a9-496b-85f0-2b0d71c4f32a\",\n",
      "  \"31c24e10-a181-5473-b8eb-7969acd0382f\",\n",
      "  \"069b7b12-0de2-55c6-9aab-29f3d0a68a2e\",\n",
      "  \"9a3f8284-a2c9-5f02-9a11-845980a1fd5c\",\n",
      "  \"09ab397b-f2b6-538f-b94a-2f83cf4a842a\",\n",
      "  \"c3b1956e-8857-4d84-9b79-890df85b1e67\",\n",
      "  #<null>,\n",
      "  #<null>,\n",
      "  #<null>,\n",
      "  #<null>,\n",
      "  #<null>,\n",
      "  #<null>,\n",
      "  #<null>,\n",
      "  \"86223c79-3864-5bf0-83f7-82e725a168b6\",\n",
      "  \"187b0558-2788-49d3-abe0-74a17ed4e7c9\",\n",
      "  #<null>,\n",
      "  #<null>,\n",
      "  #<null>,\n",
      "  #<null>,\n",
      "  #<null>,\n",
      "  #<null>,\n",
      "  #<null>,\n",
      "  #<null>,\n",
      "  \"3c6b6a22-b11f-44c2-accc-f87d49953a21\",\n",
      "  #<null>,\n",
      "  #<null>,\n",
      "  #<null>,\n",
      "  #<null>,\n",
      "  #<null>,\n",
      "  \"2913bbd2-ae8a-5f71-8c99-4fb6c76f3a91\",\n",
      "  #<null>,\n",
      "  \"bdcacae8-1622-11e9-2a5c-532679323890\",\n",
      "  \"aedffcd0-7271-4cad-89d0-dc628f76c6d3\",\n",
      "  #<null>,\n",
      "  #<null>,\n",
      "  #<null>,\n",
      "  \"5e0ebb24-38b0-5f93-81fe-25c709ecae67\",\n",
      "  \"33016aad-b69d-45be-9359-82a41f556fd4\",\n",
      "  #<null>,\n",
      "  #<null>,\n",
      "  \"41a02a25-b8f0-4f67-bc48-60067656b558\",\n",
      "  #<null>,\n",
      "  \"1914dd2f-81c6-5fcd-8719-6d5c9610ff09\",\n",
      "  #<null>,\n",
      "  \"90137ffa-7385-5640-81b9-e52037218182\",\n",
      "  #<null>,\n",
      "  #<null>,\n",
      "  \"15f4f7f2-30c1-5605-9d31-71845cf9641f\",\n",
      "  \"b77e0a4c-d291-57a0-90e8-8db25a27a240\",\n",
      "  \"1c621080-faea-4a02-84b6-bbd5e436b8fe\",\n",
      "  #<null>,\n",
      "  \"d96e819e-fc66-5662-9728-84c9c7592b0a\",\n",
      "  \"128add7d-3638-4c79-886c-908ea0c25c34\",\n",
      "  \"d8e11817-5142-5d16-987a-aa16d5891078\",\n",
      "  \"de0858da-6303-5e67-8744-51eddeeeb8d7\",\n",
      "  \"ae3b139e-64da-4858-8f55-5617df0d650e\",\n",
      "  #<null>,\n",
      "  #<null>,\n",
      "  #<null>], ndel=0, count=29, age=0x000000000000001f, idxfloor=1, maxprobe=4),\n",
      "  \"Musica\",\n",
      "  #<null>,\n",
      "  #<null>,\n",
      "  #<null>,\n",
      "  #<null>,\n",
      "  \"b7355d43-d5bc-4bd6-b9cb-a8ac25e01657\",\n",
      "  Base.Dict{String, Any}(slots=Array{UInt8, (16,)}[0x00, 0xc2, 0xfd, 0x00, 0x00, 0x00, 0xe2, 0x85, 0xd9, 0x00, 0x00, 0x00, 0x00, 0xc1, 0x00, 0x00], keys=Array{String, (16,)}[\n",
      "  #<null>,\n",
      "  \"Transducers\",\n",
      "  \"StatsBase\",\n",
      "  #<null>,\n",
      "  #<null>,\n",
      "  #<null>,\n",
      "  \"StructArrays\",\n",
      "  \"TestItems\",\n",
      "  \"Parameters\",\n",
      "  #<null>,\n",
      "  #<null>,\n",
      "  #<null>,\n",
      "  #<null>,\n",
      "  \"Folds\",\n",
      "  #<null>,\n",
      "  #<null>], vals=Array{Any, (16,)}[\n",
      "  #<null>,\n",
      "  \"0.4\",\n",
      "  \"0.34\",\n",
      "  #<null>,\n",
      "  #<null>,\n",
      "  #<null>,\n",
      "  \"0.6\",\n",
      "  \"0.1\",\n",
      "  \"0.12\",\n",
      "  #<null>,\n",
      "  #<null>,\n",
      "  #<null>,\n",
      "  #<null>,\n",
      "  \"0.2\",\n",
      "  #<null>,\n",
      "  #<null>], ndel=0, count=6, age=0x0000000000000006, idxfloor=2, maxprobe=1),\n",
      "  #<null>,\n",
      "  #<null>,\n",
      "  #<null>,\n",
      "  #<null>,\n",
      "  #<null>,\n",
      "  \"0.0.1\",\n",
      "  #<null>,\n",
      "  #<null>], ndel=0, count=5, age=0x0000000000000005, idxfloor=1, maxprobe=1))\n"
     ]
    },
    {
     "name": "stderr",
     "output_type": "stream",
     "text": [
      "parse at ./toml_parser.jl:445 [inlined]\n",
      "get_updated_dict at ./loading.jl:247\n",
      "#938 at ./loading.jl:288\n",
      "lock at ./lock.jl:229\n",
      "parsed_toml at ./loading.jl:275 [inlined]\n",
      "parsed_toml at ./loading.jl:273 [inlined]\n",
      "collect_preferences at ./loading.jl:2559\n",
      "get_preferences at ./loading.jl:2632\n",
      "get_preferences_hash at ./loading.jl:2645\n",
      "get_preferences_hash at ./loading.jl:2658\n",
      "jfptr_get_preferences_hash_41396 at /opt/homebrew/Cellar/julia/1.9.3/lib/julia/sys.dylib (unknown line)\n",
      "ijl_apply_generic at /opt/homebrew/Cellar/julia/1.9.3/lib/julia/libjulia-internal.1.9.dylib (unknown line)\n",
      "ijl_create_system_image at /opt/homebrew/Cellar/julia/1.9.3/lib/julia/libjulia-internal.1.9.dylib (unknown line)\n",
      "ijl_write_compiler_output at /opt/homebrew/Cellar/julia/1.9.3/lib/julia/libjulia-internal.1.9.dylib (unknown line)\n",
      "ijl_atexit_hook at /opt/homebrew/Cellar/julia/1.9.3/lib/julia/libjulia-internal.1.9.dylib (unknown line)\n",
      "jl_repl_entrypoint at /opt/homebrew/Cellar/julia/1.9.3/lib/julia/libjulia-internal.1.9.dylib (unknown line)\n"
     ]
    },
    {
     "ename": "ErrorException",
     "evalue": "Failed to precompile Plots [91a5bcdd-55d7-5caf-9e0b-520d859cae80] to \"/Users/teklof/.julia/compiled/v1.9/Plots/jl_xoiNrZ\".",
     "output_type": "error",
     "traceback": [
      "Failed to precompile Plots [91a5bcdd-55d7-5caf-9e0b-520d859cae80] to \"/Users/teklof/.julia/compiled/v1.9/Plots/jl_xoiNrZ\".\n",
      "\n",
      "Stacktrace:\n",
      "  [1] error(s::String)\n",
      "    @ Base ./error.jl:35\n",
      "  [2] compilecache(pkg::Base.PkgId, path::String, internal_stderr::IO, internal_stdout::IO, keep_loaded_modules::Bool)\n",
      "    @ Base ./loading.jl:2300\n",
      "  [3] compilecache\n",
      "    @ ./loading.jl:2167 [inlined]\n",
      "  [4] _require(pkg::Base.PkgId, env::String)\n",
      "    @ Base ./loading.jl:1805\n",
      "  [5] _require_prelocked(uuidkey::Base.PkgId, env::String)\n",
      "    @ Base ./loading.jl:1660\n",
      "  [6] macro expansion\n",
      "    @ ./loading.jl:1648 [inlined]\n",
      "  [7] macro expansion\n",
      "    @ ./lock.jl:267 [inlined]\n",
      "  [8] require(into::Module, mod::Symbol)\n",
      "    @ Base ./loading.jl:1611\n",
      "  [9] eval\n",
      "    @ ./boot.jl:370 [inlined]\n",
      " [10] include_string(mapexpr::typeof(REPL.softscope), mod::Module, code::String, filename::String)\n",
      "    @ Base ./loading.jl:1903\n",
      " [11] #invokelatest#2\n",
      "    @ ./essentials.jl:819 [inlined]\n",
      " [12] invokelatest\n",
      "    @ ./essentials.jl:816 [inlined]\n",
      " [13] (::VSCodeServer.var\"#202#203\"{VSCodeServer.NotebookRunCellArguments, String})()\n",
      "    @ VSCodeServer ~/.vscode/extensions/julialang.language-julia-1.51.2/scripts/packages/VSCodeServer/src/serve_notebook.jl:19\n",
      " [14] withpath(f::VSCodeServer.var\"#202#203\"{VSCodeServer.NotebookRunCellArguments, String}, path::String)\n",
      "    @ VSCodeServer ~/.vscode/extensions/julialang.language-julia-1.51.2/scripts/packages/VSCodeServer/src/repl.jl:274\n",
      " [15] notebook_runcell_request(conn::VSCodeServer.JSONRPC.JSONRPCEndpoint{Base.PipeEndpoint, Base.PipeEndpoint}, params::VSCodeServer.NotebookRunCellArguments)\n",
      "    @ VSCodeServer ~/.vscode/extensions/julialang.language-julia-1.51.2/scripts/packages/VSCodeServer/src/serve_notebook.jl:13\n",
      " [16] dispatch_msg(x::VSCodeServer.JSONRPC.JSONRPCEndpoint{Base.PipeEndpoint, Base.PipeEndpoint}, dispatcher::VSCodeServer.JSONRPC.MsgDispatcher, msg::Dict{String, Any})\n",
      "    @ VSCodeServer.JSONRPC ~/.vscode/extensions/julialang.language-julia-1.51.2/scripts/packages/JSONRPC/src/typed.jl:67\n",
      " [17] serve_notebook(pipename::String, outputchannel_logger::Base.CoreLogging.SimpleLogger; crashreporting_pipename::String)\n",
      "    @ VSCodeServer ~/.vscode/extensions/julialang.language-julia-1.51.2/scripts/packages/VSCodeServer/src/serve_notebook.jl:139\n",
      " [18] top-level scope\n",
      "    @ ~/.vscode/extensions/julialang.language-julia-1.51.2/scripts/notebook/notebook.jl:32"
     ]
    }
   ],
   "source": [
    "using Transducers, Plots, Lazy, Musica, StaticArrays\n",
    "\n",
    "# function new_state(row_len)\n",
    "#   @SVector ones(Int, row_len)\n",
    "# end\n",
    "\n",
    "# include(\"./CA.jl\")\n",
    "steps = 100\n",
    "res = Lazy.iterated(ca, new_state(160)) |> Take(steps) |> collect\n",
    "\n",
    "heatmap(stack(res)',\n",
    "  yflip=true,\n",
    "  c=cgrad([:white, :black]),\n",
    "  legend=:none,\n",
    "  axis=false,\n",
    "  ticks=false)"
   ]
  },
  {
   "cell_type": "code",
   "execution_count": null,
   "metadata": {},
   "outputs": [],
   "source": [
    "using Lazy, Plots\n",
    "steps=10\n",
    "res = Lazy.iterated(CA.Elementaryy{2}(110), state) |> Map(Musica.count_ones) |> Take(steps) |> collect\n",
    "plot(res)\n"
   ]
  },
  {
   "attachments": {},
   "cell_type": "markdown",
   "metadata": {},
   "source": [
    "### metaheur"
   ]
  },
  {
   "attachments": {},
   "cell_type": "markdown",
   "metadata": {},
   "source": [
    "#### opt"
   ]
  },
  {
   "cell_type": "code",
   "execution_count": null,
   "metadata": {},
   "outputs": [],
   "source": [
    "using Plots, Musica, Transducers, StatsBase, Metaheuristics\n",
    "\n",
    "function _plotopres(opres)\n",
    "  @show extrema(fvals(opres))\n",
    "  want_test_data = Musica._test_wanted_output_rastr(10, 0.19)\n",
    "  _parser = Musica._test_parser_dynamic()\n",
    "  _inp_gen = full_data_generator(want_test_data) #() -> (want_test_data, 1:length(want_test_data))\n",
    "  # _res_gen = Musica.full_result_generator(want_test_data)\n",
    "  # fff = Musica.to_obj_fn(_parser, _res_gen, Musica.make_fitness_function())\n",
    "\n",
    "  _res_gen = input_based_result_gen()\n",
    "  fff = create_obj_fn(_parser, _inp_gen, _res_gen, Musica.create_fitness_fn())\n",
    "\n",
    "  best_sol_bits = get_best_at(fff, opres)\n",
    "  # @show all(==(0), best_sol_bits)\n",
    "  @show length(best_sol_bits)\n",
    "\n",
    "  @show minimizer(opres) == best_sol_bits\n",
    "  @show best_sol_bits\n",
    "  @show Int(undigits(best_sol_bits[1:Musica._bits_per_stack_size()]))\n",
    "  (_, cas) = best_sol_bits |> _parser\n",
    "  @show cas\n",
    "  for can in cas\n",
    "    @show can\n",
    "  end\n",
    "\n",
    "  # (_want, _res) = _inp_gen()\n",
    "\n",
    "  # best_sol_bits = minimizer(opres)\n",
    "  (wanted, inp) = _inp_gen() |> maybe_collect\n",
    "  result = _res_gen(inp, cas) |>\n",
    "           Map(@<(normalize_num(2^16 - 1)) ∘ row_from_gray) |> maybe_collect\n",
    "\n",
    "  @show extrema(result)\n",
    "  @show StatsBase.rmsd(result, wanted)\n",
    "  plot(result, label=\"result\", seriescolor=:red)\n",
    "  vline!([length(Musica._test_wanted_output_tan(π))], label=\"training data cutoff\")\n",
    "  plot!(wanted, label=\"target\", seriescolor=:green)\n",
    "end\n",
    "\n",
    "_plotopres(opres)\n"
   ]
  },
  {
   "cell_type": "markdown",
   "metadata": {},
   "source": [
    "### sälä"
   ]
  },
  {
   "cell_type": "code",
   "execution_count": null,
   "metadata": {},
   "outputs": [],
   "source": [
    "using Transducers, StaticArrays, Musica\n",
    "\n",
    "#state=Musica.Row{2}(new_state(Val{16}))\n",
    "\n",
    "test_ca = CA.Elementary{2}(110)\n",
    "test_ca2 = CA.Elementary{2}(54)\n",
    "\n",
    "trf=TeeRF(Map(test_ca)'(append!!)\n",
    "       , Map(test_ca2)'(append!!))\n",
    "\n",
    "foldl(trf, Map(identity), [state])\n",
    "# transducereitten adjointit toimii foldl:n kanssa näin:\n",
    "# Map(test_ca)'(append!!)([], test_state) ==\n",
    "#   [1, 1, 0, 0, 0, 0, 0, 0]\n",
    "# \n",
    "# eli ton palauttaman funktion vasen parametri on acc, oikea on varsinainen itemi.\n",
    "\n"
   ]
  },
  {
   "cell_type": "code",
   "execution_count": null,
   "metadata": {},
   "outputs": [],
   "source": [
    "using Musica\n",
    "let ca = ElementaryCA{2}(110), state = Row{2,5}(ones(Bool,5))\n",
    "  specs=@which(ca(state)).specializations;\n",
    "  foreach(specs) do spec\n",
    "    @show spec\n",
    "  end\n",
    "end\n"
   ]
  },
  {
   "cell_type": "code",
   "execution_count": null,
   "metadata": {},
   "outputs": [],
   "source": [
    "using BenchmarkTools, LoopVectorization\n",
    "let n = 5_000\n",
    "\n",
    "  function fill_vect(s)\n",
    "    rand(Bool, s)\n",
    "  end\n",
    "\n",
    "  function fill_vect_for(s)\n",
    "    v = Vector{Bool}(undef, s)\n",
    "    @inbounds for i = 1:s\n",
    "      v[i] = rand(Bool)\n",
    "    end\n",
    "    v\n",
    "  end\n",
    "\n",
    "  function fill_vect_for_simd(s)\n",
    "    v = Vector{Bool}(undef, s)\n",
    "    @inbounds @simd ivdep for i = 1:s\n",
    "      v[i] = rand(Bool)\n",
    "    end\n",
    "    v\n",
    "  end\n",
    "\n",
    "  function fill_bitvect(s)\n",
    "    BitVector(rand(Bool, s))\n",
    "  end\n",
    "\n",
    "  function fill_bitvect_for(s)\n",
    "    v = BitVector(undef, s)\n",
    "    @inbounds for i = 1:s\n",
    "      v[i] = rand(Bool)\n",
    "    end\n",
    "    v\n",
    "  end\n",
    "\n",
    "  function fill_bitvect_for_simd(s)\n",
    "    v = BitVector(undef, s)\n",
    "    @inbounds @simd ivdep for i = 1:s\n",
    "      v[i] = rand(Bool)\n",
    "    end\n",
    "    v\n",
    "  end\n",
    "\n",
    "  bset = @benchmarkset \"ble\" begin\n",
    "    @case \"fill_vect\" $fill_vect($n)\n",
    "    @case \"fill_vect_for\" $fill_vect_for($n)\n",
    "    @case \"fill_vect_for_simd\" $fill_vect_for_simd($n)\n",
    "\n",
    "    @case \"fill_bitvect\" $fill_bitvect($n)\n",
    "    @case \"fill_bitvect_for\" $fill_bitvect_for($n)\n",
    "    @case \"fill_bitvect_for_simd\" $fill_bitvect_for_simd($n)\n",
    "  end\n",
    "\n",
    "  for (setname, set) in BenchmarkTools.run(bset)\n",
    "    for (name, trial) in set\n",
    "        display(name)\n",
    "        display(trial)\n",
    "      end\n",
    "  end\n",
    "\n",
    "  # for (name, trial) in BenchmarkTools.run(bset)[\"ble\"]\n",
    "  #   display(name)\n",
    "  #   display(trial)\n",
    "  # end\n",
    "\n",
    "end"
   ]
  },
  {
   "cell_type": "code",
   "execution_count": null,
   "metadata": {},
   "outputs": [],
   "source": [
    "using Musica, Transducers, StaticArrays, StatsBase\n",
    "\n",
    "indivs = SizedVector{10}(1:10 |> Map(x -> rand(Bool, rand(1:20))) |> collect);\n",
    "st=GA.State{10}(indivs, GA.Options(objective_fn=x->0.0));\n",
    "StatsBase.sample(GA.individuals(st), 2;replace=false)"
   ]
  },
  {
   "cell_type": "code",
   "execution_count": null,
   "metadata": {},
   "outputs": [],
   "source": [
    "using Plots\n",
    "histogram(randn(5000),seriescolor=:green)"
   ]
  },
  {
   "cell_type": "code",
   "execution_count": 14,
   "metadata": {},
   "outputs": [
    {
     "name": "stdout",
     "output_type": "stream",
     "text": [
      "_typedispatch.drop([1, 2, 3, 4, 5], 2) = [3, 4, 5]\n"
     ]
    },
    {
     "name": "stderr",
     "output_type": "stream",
     "text": [
      "WARNING: replacing module _typedispatch.\n",
      "WARNING: replacing module _tailcalls.\n"
     ]
    },
    {
     "data": {
      "text/plain": [
       "Main._tailcalls"
      ]
     },
     "metadata": {},
     "output_type": "display_data"
    }
   ],
   "source": [
    "module _typedispatch\n",
    "using StaticArrays\n",
    "\n",
    "drop(a, n) = _drop(SizedVector{length(a)}(a), Val(n))\n",
    "\n",
    "_drop(a::SizedVector{0}, ::Val) = a\n",
    "_drop(a::SizedVector, ::Val{0}) = a\n",
    "_drop(a::SizedVector{Len}, ::Val{N}) where {Len,N} = _drop(SizedVector{Len - 1}(a[2:end]), Val(N - 1))\n",
    "\n",
    "end\n",
    "\n",
    "@show(_typedispatch.drop([1, 2, 3, 4, 5], 2))\n",
    "# @show(_typedispatch.drop([1, 2, 3, 4, 5], 6))\n",
    "\n",
    "module _tailcalls\n",
    "\n",
    "function drop(a, n)\n",
    "  if isempty(a) || n == 0\n",
    "    a\n",
    "  else\n",
    "    drop(a[2:end], n - 1)\n",
    "  end\n",
    "end\n",
    "\n",
    "end\n",
    "\n",
    "# @show(_tailcalls.drop([1, 2, 3, 4, 5], 2))\n",
    "# code_typed() do\n",
    "#   _typedispatch.drop([1, 2, 3, 4, 5], 2)\n",
    "# end\n",
    "# @show(_tailcalls.drop([1, 2, 3, 4, 5], 6))"
   ]
  },
  {
   "cell_type": "code",
   "execution_count": 8,
   "metadata": {},
   "outputs": [
    {
     "name": "stdout",
     "output_type": "stream",
     "text": [
      "c = Main.TypeAbuse.Fix{+, 1, NamedTuple()}()\n",
      "c(2) == 3 = true\n",
      "\n",
      "c = "
     ]
    },
    {
     "name": "stderr",
     "output_type": "stream",
     "text": [
      "WARNING: replacing module TypeAbuse.\n"
     ]
    },
    {
     "data": {
      "text/plain": [
       "\"log(5,rand())\""
      ]
     },
     "metadata": {},
     "output_type": "display_data"
    },
    {
     "data": {
      "text/plain": [
       "BenchmarkTools.Trial: 10000 samples with 1000 evaluations.\n",
       " Range \u001b[90m(\u001b[39m\u001b[36m\u001b[1mmin\u001b[22m\u001b[39m … \u001b[35mmax\u001b[39m\u001b[90m):  \u001b[39m\u001b[36m\u001b[1m19.666 ns\u001b[22m\u001b[39m … \u001b[35m81.917 ns\u001b[39m  \u001b[90m┊\u001b[39m GC \u001b[90m(\u001b[39mmin … max\u001b[90m): \u001b[39m0.00% … 0.00%\n",
       " Time  \u001b[90m(\u001b[39m\u001b[34m\u001b[1mmedian\u001b[22m\u001b[39m\u001b[90m):     \u001b[39m\u001b[34m\u001b[1m19.834 ns              \u001b[22m\u001b[39m\u001b[90m┊\u001b[39m GC \u001b[90m(\u001b[39mmedian\u001b[90m):    \u001b[39m0.00%\n",
       " Time  \u001b[90m(\u001b[39m\u001b[32m\u001b[1mmean\u001b[22m\u001b[39m ± \u001b[32mσ\u001b[39m\u001b[90m):   \u001b[39m\u001b[32m\u001b[1m20.035 ns\u001b[22m\u001b[39m ± \u001b[32m 1.100 ns\u001b[39m  \u001b[90m┊\u001b[39m GC \u001b[90m(\u001b[39mmean ± σ\u001b[90m):  \u001b[39m0.00% ± 0.00%\n",
       "\n",
       "  \u001b[39m▂\u001b[39m█\u001b[39m█\u001b[34m█\u001b[39m\u001b[39m▅\u001b[39m▅\u001b[32m \u001b[39m\u001b[39m \u001b[39m \u001b[39m \u001b[39m▁\u001b[39m▂\u001b[39m▃\u001b[39m \u001b[39m▁\u001b[39m \u001b[39m \u001b[39m \u001b[39m \u001b[39m \u001b[39m \u001b[39m▂\u001b[39m▁\u001b[39m▂\u001b[39m \u001b[39m▁\u001b[39m \u001b[39m \u001b[39m \u001b[39m \u001b[39m \u001b[39m \u001b[39m \u001b[39m \u001b[39m \u001b[39m \u001b[39m \u001b[39m \u001b[39m \u001b[39m \u001b[39m \u001b[39m \u001b[39m \u001b[39m \u001b[39m \u001b[39m \u001b[39m \u001b[39m \u001b[39m \u001b[39m \u001b[39m \u001b[39m \u001b[39m \u001b[39m \u001b[39m \u001b[39m \u001b[39m \u001b[39m \u001b[39m \u001b[39m \u001b[39m▂\n",
       "  \u001b[39m█\u001b[39m█\u001b[39m█\u001b[34m█\u001b[39m\u001b[39m█\u001b[39m█\u001b[32m█\u001b[39m\u001b[39m▄\u001b[39m▆\u001b[39m▆\u001b[39m█\u001b[39m█\u001b[39m█\u001b[39m█\u001b[39m█\u001b[39m▆\u001b[39m▇\u001b[39m▅\u001b[39m▅\u001b[39m▆\u001b[39m█\u001b[39m█\u001b[39m█\u001b[39m█\u001b[39m█\u001b[39m█\u001b[39m█\u001b[39m▇\u001b[39m▇\u001b[39m▆\u001b[39m▅\u001b[39m▃\u001b[39m▆\u001b[39m▅\u001b[39m▄\u001b[39m▄\u001b[39m▅\u001b[39m▁\u001b[39m▄\u001b[39m▄\u001b[39m▁\u001b[39m▃\u001b[39m▃\u001b[39m▁\u001b[39m▁\u001b[39m▁\u001b[39m▁\u001b[39m▃\u001b[39m▄\u001b[39m▃\u001b[39m▃\u001b[39m▁\u001b[39m▁\u001b[39m▁\u001b[39m▃\u001b[39m▁\u001b[39m▃\u001b[39m▃\u001b[39m▃\u001b[39m \u001b[39m█\n",
       "  19.7 ns\u001b[90m      \u001b[39m\u001b[90mHistogram: \u001b[39m\u001b[90m\u001b[1mlog(\u001b[22m\u001b[39m\u001b[90mfrequency\u001b[39m\u001b[90m\u001b[1m)\u001b[22m\u001b[39m\u001b[90m by time\u001b[39m      23.5 ns \u001b[0m\u001b[1m<\u001b[22m\n",
       "\n",
       " Memory estimate\u001b[90m: \u001b[39m\u001b[33m0 bytes\u001b[39m, allocs estimate\u001b[90m: \u001b[39m\u001b[33m0\u001b[39m."
      ]
     },
     "metadata": {},
     "output_type": "display_data"
    },
    {
     "data": {
      "text/plain": [
       "\"Base.Fix1{typeof(log), Int64}(log, 5)\""
      ]
     },
     "metadata": {},
     "output_type": "display_data"
    },
    {
     "data": {
      "text/plain": [
       "BenchmarkTools.Trial: 10000 samples with 1000 evaluations.\n",
       " Range \u001b[90m(\u001b[39m\u001b[36m\u001b[1mmin\u001b[22m\u001b[39m … \u001b[35mmax\u001b[39m\u001b[90m):  \u001b[39m\u001b[36m\u001b[1m27.375 ns\u001b[22m\u001b[39m … \u001b[35m61.875 ns\u001b[39m  \u001b[90m┊\u001b[39m GC \u001b[90m(\u001b[39mmin … max\u001b[90m): \u001b[39m0.00% … 0.00%\n",
       " Time  \u001b[90m(\u001b[39m\u001b[34m\u001b[1mmedian\u001b[22m\u001b[39m\u001b[90m):     \u001b[39m\u001b[34m\u001b[1m27.917 ns              \u001b[22m\u001b[39m\u001b[90m┊\u001b[39m GC \u001b[90m(\u001b[39mmedian\u001b[90m):    \u001b[39m0.00%\n",
       " Time  \u001b[90m(\u001b[39m\u001b[32m\u001b[1mmean\u001b[22m\u001b[39m ± \u001b[32mσ\u001b[39m\u001b[90m):   \u001b[39m\u001b[32m\u001b[1m28.202 ns\u001b[22m\u001b[39m ± \u001b[32m 1.096 ns\u001b[39m  \u001b[90m┊\u001b[39m GC \u001b[90m(\u001b[39mmean ± σ\u001b[90m):  \u001b[39m0.00% ± 0.00%\n",
       "\n",
       "  \u001b[39m \u001b[39m▂\u001b[39m▅\u001b[39m▇\u001b[39m█\u001b[39m█\u001b[34m█\u001b[39m\u001b[39m▇\u001b[39m▆\u001b[39m▄\u001b[32m▂\u001b[39m\u001b[39m▂\u001b[39m▃\u001b[39m▄\u001b[39m▄\u001b[39m▅\u001b[39m▄\u001b[39m▃\u001b[39m▂\u001b[39m \u001b[39m \u001b[39m \u001b[39m \u001b[39m▂\u001b[39m▁\u001b[39m▂\u001b[39m▂\u001b[39m▂\u001b[39m▁\u001b[39m▁\u001b[39m▁\u001b[39m \u001b[39m \u001b[39m \u001b[39m \u001b[39m \u001b[39m \u001b[39m \u001b[39m \u001b[39m \u001b[39m \u001b[39m \u001b[39m \u001b[39m \u001b[39m \u001b[39m \u001b[39m \u001b[39m \u001b[39m \u001b[39m \u001b[39m \u001b[39m \u001b[39m \u001b[39m \u001b[39m \u001b[39m \u001b[39m \u001b[39m \u001b[39m \u001b[39m \u001b[39m▃\n",
       "  \u001b[39m█\u001b[39m█\u001b[39m█\u001b[39m█\u001b[39m█\u001b[39m█\u001b[34m█\u001b[39m\u001b[39m█\u001b[39m█\u001b[39m█\u001b[32m█\u001b[39m\u001b[39m█\u001b[39m█\u001b[39m█\u001b[39m█\u001b[39m█\u001b[39m█\u001b[39m█\u001b[39m█\u001b[39m█\u001b[39m▇\u001b[39m▇\u001b[39m█\u001b[39m█\u001b[39m█\u001b[39m█\u001b[39m█\u001b[39m█\u001b[39m█\u001b[39m█\u001b[39m█\u001b[39m█\u001b[39m▇\u001b[39m▇\u001b[39m▆\u001b[39m▇\u001b[39m▆\u001b[39m▆\u001b[39m▆\u001b[39m▆\u001b[39m▄\u001b[39m▅\u001b[39m▆\u001b[39m▁\u001b[39m▅\u001b[39m▃\u001b[39m▃\u001b[39m▄\u001b[39m▄\u001b[39m▄\u001b[39m▅\u001b[39m▃\u001b[39m▃\u001b[39m▄\u001b[39m▃\u001b[39m▁\u001b[39m▃\u001b[39m▄\u001b[39m▄\u001b[39m \u001b[39m█\n",
       "  27.4 ns\u001b[90m      \u001b[39m\u001b[90mHistogram: \u001b[39m\u001b[90m\u001b[1mlog(\u001b[22m\u001b[39m\u001b[90mfrequency\u001b[39m\u001b[90m\u001b[1m)\u001b[22m\u001b[39m\u001b[90m by time\u001b[39m      32.5 ns \u001b[0m\u001b[1m<\u001b[22m\n",
       "\n",
       " Memory estimate\u001b[90m: \u001b[39m\u001b[33m0 bytes\u001b[39m, allocs estimate\u001b[90m: \u001b[39m\u001b[33m0\u001b[39m."
      ]
     },
     "metadata": {},
     "output_type": "display_data"
    },
    {
     "data": {
      "text/plain": [
       "\"Main.TypeAbuse.Fix{log, 5, NamedTuple()}()\""
      ]
     },
     "metadata": {},
     "output_type": "display_data"
    },
    {
     "data": {
      "text/plain": [
       "BenchmarkTools.Trial: 10000 samples with 1000 evaluations.\n",
       " Range \u001b[90m(\u001b[39m\u001b[36m\u001b[1mmin\u001b[22m\u001b[39m … \u001b[35mmax\u001b[39m\u001b[90m):  \u001b[39m\u001b[36m\u001b[1m19.667 ns\u001b[22m\u001b[39m … \u001b[35m38.291 ns\u001b[39m  \u001b[90m┊\u001b[39m GC \u001b[90m(\u001b[39mmin … max\u001b[90m): \u001b[39m0.00% … 0.00%\n",
       " Time  \u001b[90m(\u001b[39m\u001b[34m\u001b[1mmedian\u001b[22m\u001b[39m\u001b[90m):     \u001b[39m\u001b[34m\u001b[1m19.834 ns              \u001b[22m\u001b[39m\u001b[90m┊\u001b[39m GC \u001b[90m(\u001b[39mmedian\u001b[90m):    \u001b[39m0.00%\n",
       " Time  \u001b[90m(\u001b[39m\u001b[32m\u001b[1mmean\u001b[22m\u001b[39m ± \u001b[32mσ\u001b[39m\u001b[90m):   \u001b[39m\u001b[32m\u001b[1m20.034 ns\u001b[22m\u001b[39m ± \u001b[32m 0.931 ns\u001b[39m  \u001b[90m┊\u001b[39m GC \u001b[90m(\u001b[39mmean ± σ\u001b[90m):  \u001b[39m0.00% ± 0.00%\n",
       "\n",
       "  \u001b[39m▂\u001b[39m▅\u001b[39m▇\u001b[34m█\u001b[39m\u001b[39m▅\u001b[39m▄\u001b[39m▃\u001b[32m \u001b[39m\u001b[39m \u001b[39m \u001b[39m \u001b[39m \u001b[39m \u001b[39m▃\u001b[39m▂\u001b[39m▁\u001b[39m▁\u001b[39m \u001b[39m \u001b[39m \u001b[39m \u001b[39m \u001b[39m \u001b[39m \u001b[39m \u001b[39m▁\u001b[39m▁\u001b[39m▂\u001b[39m \u001b[39m \u001b[39m \u001b[39m \u001b[39m \u001b[39m \u001b[39m \u001b[39m \u001b[39m \u001b[39m \u001b[39m \u001b[39m \u001b[39m \u001b[39m \u001b[39m \u001b[39m \u001b[39m \u001b[39m \u001b[39m \u001b[39m \u001b[39m \u001b[39m \u001b[39m \u001b[39m \u001b[39m \u001b[39m \u001b[39m \u001b[39m \u001b[39m \u001b[39m \u001b[39m \u001b[39m \u001b[39m▂\n",
       "  \u001b[39m█\u001b[39m█\u001b[39m█\u001b[34m█\u001b[39m\u001b[39m█\u001b[39m█\u001b[39m█\u001b[32m▇\u001b[39m\u001b[39m▄\u001b[39m▃\u001b[39m▆\u001b[39m▆\u001b[39m▇\u001b[39m█\u001b[39m█\u001b[39m█\u001b[39m█\u001b[39m█\u001b[39m▆\u001b[39m▅\u001b[39m▆\u001b[39m▅\u001b[39m▄\u001b[39m▅\u001b[39m█\u001b[39m█\u001b[39m█\u001b[39m█\u001b[39m█\u001b[39m▇\u001b[39m▇\u001b[39m█\u001b[39m▇\u001b[39m▇\u001b[39m▇\u001b[39m▅\u001b[39m▅\u001b[39m▅\u001b[39m▅\u001b[39m▄\u001b[39m▅\u001b[39m▅\u001b[39m▁\u001b[39m▃\u001b[39m▁\u001b[39m▃\u001b[39m▃\u001b[39m▄\u001b[39m▄\u001b[39m▁\u001b[39m▃\u001b[39m▁\u001b[39m▁\u001b[39m▁\u001b[39m▃\u001b[39m▄\u001b[39m▃\u001b[39m▁\u001b[39m▄\u001b[39m \u001b[39m█\n",
       "  19.7 ns\u001b[90m      \u001b[39m\u001b[90mHistogram: \u001b[39m\u001b[90m\u001b[1mlog(\u001b[22m\u001b[39m\u001b[90mfrequency\u001b[39m\u001b[90m\u001b[1m)\u001b[22m\u001b[39m\u001b[90m by time\u001b[39m      22.8 ns \u001b[0m\u001b[1m<\u001b[22m\n",
       "\n",
       " Memory estimate\u001b[90m: \u001b[39m\u001b[33m0 bytes\u001b[39m, allocs estimate\u001b[90m: \u001b[39m\u001b[33m0\u001b[39m."
      ]
     },
     "metadata": {},
     "output_type": "display_data"
    },
    {
     "name": "stdout",
     "output_type": "stream",
     "text": [
      "Main.TypeAbuse.Fix{digits, (), (base = 2,)}()\n",
      "c(5) == [1, 0, 1] = true\n"
     ]
    }
   ],
   "source": [
    "using BenchmarkTools\n",
    "\n",
    "module TypeAbuse\n",
    "struct Fix{Fn,Args,KW}\n",
    "  Fix{Fn,Args,KW}() where {Fn,Args,KW} = new{Fn,Args,KW}()\n",
    "end\n",
    "\n",
    "Fix{Fn,Args}() where {Fn,Args} = Fix{Fn,Args,(;)}()\n",
    "Fix{Fn}() where {Fn} = Fix{Fn,()}()\n",
    "\n",
    "function (::Fix{Fn,Args,KW})(moreargs...) where {Fn,Args,KW} \n",
    "  Fn(_mergetups(Args, moreargs)...; KW...)\n",
    "end\n",
    "\n",
    "_mergetups(a, b) = (a..., b...)\n",
    "\n",
    "bleb(a, b) = log(a) * b\n",
    "end\n",
    "\n",
    "let c = TypeAbuse.Fix{+,1}()\n",
    "  @show c\n",
    "  @show c(2) == 3\n",
    "end\n",
    "\n",
    "let c = TypeAbuse.Fix{digits,(),(; base = 2)}()\n",
    "  println()\n",
    "  @show c\n",
    "  @show c(5) == [1, 0, 1]\n",
    "end\n",
    "\n",
    "let bset = @benchmarkset \"perf\" begin\n",
    "    let c = TypeAbuse.Fix{log,5}()\n",
    "      @case \"$c\" $c(rand()) evals = 1000 samples = 10000\n",
    "    end\n",
    "    let c = Base.Fix1(log, 5)\n",
    "      @case \"$c\" $c(rand()) evals = 1000 samples = 10000\n",
    "    end\n",
    "\n",
    "    @case \"log(5,rand())\" log(5, rand()) evals = 1000 samples = 10000\n",
    "  end\n",
    "\n",
    "  for (_, set) in BenchmarkTools.run(bset)\n",
    "    for (name, trial) in set\n",
    "      display(name)\n",
    "      display(trial)\n",
    "    end\n",
    "  end\n",
    "end"
   ]
  },
  {
   "cell_type": "code",
   "execution_count": 2,
   "metadata": {},
   "outputs": [
    {
     "name": "stdout",
     "output_type": "stream",
     "text": [
      "Parsing.execute(p, Parsing.S{Bool}(Bool[1, 1, 0, 0], true)) = Ok{Musica.Parsing.State{Bool, Int64, Vector{Bool}}}(State{Bool,Int64,Vector{Bool}}(Just(true), Bool[0, 0]))\n"
     ]
    },
    {
     "name": "stderr",
     "output_type": "stream",
     "text": [
      "WARNING: replacing module _pars.\n"
     ]
    },
    {
     "data": {
      "text/plain": [
       "\u001b[32m\u001b[1mTry.Ok\u001b[22m\u001b[39m: State{Bool,Int64,Vector{Bool}}(Just(true), Bool[0, 0])"
      ]
     },
     "metadata": {},
     "output_type": "display_data"
    }
   ],
   "source": [
    "using Musica, Try, TryExperimental\n",
    "\n",
    "module _pars\n",
    "using Musica, Try, TryExperimental, Accessors, AccessorsExtra\n",
    "using Musica.Parsing: Parser, @err_if_inp_empty, clear_output_of, output_type, input_type, Result, in_iter_state\n",
    "\n",
    "\n",
    "struct Discard{In,P<:Parser{<:Any,<:In}} <: Parser{Nothing,In}\n",
    "  parser::P\n",
    "end\n",
    "\n",
    "# TODO[low-prio]: use a functor struct instead of a closure\n",
    "_discard_contin_parser(origstate) =\n",
    "  state -> Result(Accessors.set(origstate, Parsing.in_iter_state, Parsing.in_iter_state(state)))\n",
    "\n",
    "function (d::Discard)(state)\n",
    "  @err_if_inp_empty(state)\n",
    "  let subparser = d.parser, cont_parser = _discard_contin_parser(state)\n",
    "    Parsing.Composed(Parsing.UsingFn{Nothing,Parsing.input_type(subparser)}(cont_parser), subparser)(state)\n",
    "    # SubOut = output_type(subparser)\n",
    "    # # we need a new state that has an empty output and an output type that suits subparser\n",
    "    # subparser_inp_state = clear_output_of(state, SubOut)\n",
    "\n",
    "    # Result(subparser_inp_state,\n",
    "    #   Just(\n",
    "    #     # TODO[high-prio]: is the output type of the returned parser correct???\n",
    "    #     Parsing.UsingFn{SubOut,input_type(subparser)}(\n",
    "    #       state -> begin\n",
    "    #         # TODO[low-prio]: explicit type assert for the new state\n",
    "    #         subp_newstate = subparser(state)\n",
    "    #         Result(subp_newstate, cont_parser)\n",
    "    #       end,\n",
    "    #     ),\n",
    "    #   ))\n",
    "  end\n",
    "end\n",
    "\n",
    "end\n",
    "\n",
    "let inp = Bool[1, 1],\n",
    "  innerp = Parsing.Exact(inp),\n",
    "  p = _pars.Discard(innerp)\n",
    "\n",
    "  # let subparser = p.parser\n",
    "  #   subparser_outp_type = Parsing.output_type(subparser)\n",
    "  #   # we need a new state that has an empty output and an output type that suits subparser\n",
    "  #   subparser_inp_state = Parsing.clear_output_of(state, subparser_outp_type)\n",
    "  #   succ = Parsing.Result(subparser(subparser_inp_state), Just(Parsing.UsingFn{subparser_outp_type,Parsing.input_type(subparser)}(_pars._disc_cont_for(state)))) |> Try.unwrap\n",
    "  #   ((succ() |> Try.unwrap)() |> Try.unwrap)()\n",
    "  # end\n",
    "  # res=@show p(s)\n",
    "  # @show @which (res |> Try.unwrap)()\n",
    "  @show Parsing.execute(p, Parsing.S{Bool}(Bool[1, 1, 0, 0], true))\n",
    "end"
   ]
  },
  {
   "cell_type": "code",
   "execution_count": 5,
   "metadata": {},
   "outputs": [
    {
     "data": {
      "text/html": [
       "# 3 methods for type constructor:<ul><li> State(input) in Main at <a href=\"https://github.com/ORBAT/Musica/tree/46c3bf74fc80a70b2e885459223121052de6c25b//src/scratch.ipynb#L8\" target=\"_blank\">/Users/teklof/Documents/Programming/julia/Musica/src/scratch.ipynb:8</a></li> <li> State(full_input::<b>Input</b>, in_iter_state::<b>Union{Nothing, Some{InpIterState}}</b>)<i> where {InpIterState, Input}</i> in Main at <a href=\"https://github.com/ORBAT/Musica/tree/46c3bf74fc80a70b2e885459223121052de6c25b//src/scratch.ipynb#L4\" target=\"_blank\">/Users/teklof/Documents/Programming/julia/Musica/src/scratch.ipynb:4</a></li> <li> State(input, in_iter_state) in Main at <a href=\"https://github.com/ORBAT/Musica/tree/46c3bf74fc80a70b2e885459223121052de6c25b//src/scratch.ipynb#L8\" target=\"_blank\">/Users/teklof/Documents/Programming/julia/Musica/src/scratch.ipynb:8</a></li> </ul>"
      ],
      "text/plain": [
       "# 3 methods for type constructor:\n",
       " [1] State(\u001b[90minput\u001b[39m)\n",
       "\u001b[90m     @\u001b[39m \u001b[90m~/Documents/Programming/julia/Musica/src/\u001b[39m\u001b[90m\u001b[4mscratch.ipynb:8\u001b[24m\u001b[39m\n",
       " [2] State(\u001b[90mfull_input\u001b[39m::\u001b[1mInput\u001b[22m, \u001b[90min_iter_state\u001b[39m::\u001b[1mUnion\u001b[22m\u001b[0m{Nothing, Some{InpIterState}}) where {InpIterState, Input}\n",
       "\u001b[90m     @\u001b[39m \u001b[90m~/Documents/Programming/julia/Musica/src/\u001b[39m\u001b[90m\u001b[4mscratch.ipynb:4\u001b[24m\u001b[39m\n",
       " [3] State(\u001b[90minput\u001b[39m, \u001b[90min_iter_state\u001b[39m)\n",
       "\u001b[90m     @\u001b[39m \u001b[90m~/Documents/Programming/julia/Musica/src/\u001b[39m\u001b[90m\u001b[4mscratch.ipynb:8\u001b[24m\u001b[39m"
      ]
     },
     "metadata": {},
     "output_type": "display_data"
    }
   ],
   "source": [
    "const Optional{T} = Union{Some{T}, Nothing}\n",
    "\n",
    "struct State{InpIterState,Input}\n",
    "  full_input::Input\n",
    "  in_iter_state::Optional{InpIterState}\n",
    "end\n",
    "\n",
    "function State(input, in_iter_state=nothing)\n",
    "  let II = Base.notnothing(in_iter_state) ? typeof(something(in_iter_state)) : iter_state_type_for(input)\n",
    "    State{II,typeof(input)}(input, in_iter_state)\n",
    "  end\n",
    "end\n",
    "\n",
    "iter_state_type_for(::Array) = Int\n",
    "iter_state_type_for(x) = error(\"🤷\")\n",
    "\n",
    "methods(State)"
   ]
  }
 ],
 "metadata": {
  "kernelspec": {
   "display_name": "Julia 1.9.3",
   "language": "julia",
   "name": "julia-1.9"
  },
  "language_info": {
   "file_extension": ".jl",
   "mimetype": "application/julia",
   "name": "julia",
   "version": "1.9.3"
  }
 },
 "nbformat": 4,
 "nbformat_minor": 2
}
